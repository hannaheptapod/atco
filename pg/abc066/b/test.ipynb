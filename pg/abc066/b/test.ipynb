{
 "cells": [
  {
   "cell_type": "code",
   "execution_count": 7,
   "metadata": {},
   "outputs": [
    {
     "name": "stdout",
     "output_type": "stream",
     "text": [
      "bc bc\n"
     ]
    }
   ],
   "source": [
    "s = 'abcbcaaa'\n",
    "l = 1\n",
    "r = 5\n",
    "slr = s[l:r]\n",
    "leng = len(slr)\n",
    "print(slr[:leng//2], slr[leng//2:])"
   ]
  }
 ],
 "metadata": {
  "interpreter": {
   "hash": "453bb28757733c21425ac7fc5d4d2d0a75799ee4c7a12d2d5db4b7b5783befb2"
  },
  "kernelspec": {
   "display_name": "Python 3.9.6 64-bit ('atco': conda)",
   "name": "python3"
  },
  "language_info": {
   "codemirror_mode": {
    "name": "ipython",
    "version": 3
   },
   "file_extension": ".py",
   "mimetype": "text/x-python",
   "name": "python",
   "nbconvert_exporter": "python",
   "pygments_lexer": "ipython3",
   "version": "3.9.6"
  },
  "orig_nbformat": 4
 },
 "nbformat": 4,
 "nbformat_minor": 2
}
