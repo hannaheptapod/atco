{
 "cells": [
  {
   "cell_type": "code",
   "execution_count": 1,
   "metadata": {},
   "outputs": [],
   "source": [
    "from itertools import product, combinations"
   ]
  },
  {
   "cell_type": "code",
   "execution_count": 10,
   "metadata": {},
   "outputs": [
    {
     "name": "stdout",
     "output_type": "stream",
     "text": [
      "{1: 14, 2: 14, 3: 14, 4: 14, 5: 14, 6: 14}\n"
     ]
    }
   ],
   "source": [
    "N = 6\n",
    "\n",
    "for p in product(range(2), repeat=N*(N-1)//2):\n",
    "    dic = {i: 0 for i in range(1, N+1)}\n",
    "\n",
    "    for i, (u, v) in enumerate(combinations(range(1, N+1), 2)):\n",
    "        if not p[i]: continue\n",
    "\n",
    "        dic[u] += v\n",
    "        dic[v] += u\n",
    "    \n",
    "    st = set(dic.values())\n",
    "    if len(st) == 1 and st.pop() != 0: break\n",
    "\n",
    "print(dic)"
   ]
  }
 ],
 "metadata": {
  "kernelspec": {
   "display_name": "proc",
   "language": "python",
   "name": "python3"
  },
  "language_info": {
   "codemirror_mode": {
    "name": "ipython",
    "version": 3
   },
   "file_extension": ".py",
   "mimetype": "text/x-python",
   "name": "python",
   "nbconvert_exporter": "python",
   "pygments_lexer": "ipython3",
   "version": "3.10.6"
  },
  "orig_nbformat": 4,
  "vscode": {
   "interpreter": {
    "hash": "8615c46398274dadcae8a15d61f76bd80e80444c2d170fbfbb04d2a6c73c61a9"
   }
  }
 },
 "nbformat": 4,
 "nbformat_minor": 2
}
