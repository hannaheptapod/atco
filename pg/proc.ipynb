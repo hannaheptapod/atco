{
 "cells": [
  {
   "cell_type": "code",
   "execution_count": null,
   "metadata": {},
   "outputs": [],
   "source": [
    "import numpy as np"
   ]
  },
  {
   "cell_type": "code",
   "execution_count": null,
   "metadata": {},
   "outputs": [],
   "source": [
    "l = [(i, j) for i in range(5) for j in range(5)]\n",
    "print(*l, sep='\\n')"
   ]
  }
 ],
 "metadata": {
  "interpreter": {
   "hash": "8615c46398274dadcae8a15d61f76bd80e80444c2d170fbfbb04d2a6c73c61a9"
  },
  "kernelspec": {
   "display_name": "Python 3.9.6 64-bit ('proc': conda)",
   "name": "python3"
  },
  "language_info": {
   "codemirror_mode": {
    "name": "ipython",
    "version": 3
   },
   "file_extension": ".py",
   "mimetype": "text/x-python",
   "name": "python",
   "nbconvert_exporter": "python",
   "pygments_lexer": "ipython3",
   "version": "3.10.2"
  },
  "orig_nbformat": 4
 },
 "nbformat": 4,
 "nbformat_minor": 2
}
