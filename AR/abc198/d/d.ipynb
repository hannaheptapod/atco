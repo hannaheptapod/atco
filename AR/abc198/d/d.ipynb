{
 "cells": [
  {
   "cell_type": "code",
   "execution_count": null,
   "source": [
    "a = 'hello'\n",
    "lst = [i for i in a]\n",
    "lst1 = list(a)\n",
    "print(lst, len(lst), lst1, len(lst1))"
   ],
   "outputs": [],
   "metadata": {}
  }
 ],
 "metadata": {
  "orig_nbformat": 4,
  "language_info": {
   "name": "python"
  }
 },
 "nbformat": 4,
 "nbformat_minor": 2
}