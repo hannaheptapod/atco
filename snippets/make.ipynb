{
 "cells": [
  {
   "cell_type": "code",
   "execution_count": null,
   "metadata": {},
   "outputs": [],
   "source": [
    "from pyperclip import copy"
   ]
  },
  {
   "cell_type": "code",
   "execution_count": null,
   "metadata": {},
   "outputs": [],
   "source": [
    "name = input('Input the name of snippet:')"
   ]
  },
  {
   "cell_type": "code",
   "execution_count": null,
   "metadata": {},
   "outputs": [],
   "source": [
    "try:\n",
    "    with open('py/'+name+'.py') as src: l = map(lambda x: '        \"'+x[:-1]+'\",', src.readlines())\n",
    "    with open('txt/'+name+'.txt', mode='w') as txt:\n",
    "        txt.write('\"'+name+'\": {\\n')\n",
    "        txt.write('    \"prefix\": \"'+name+'\",\\n')\n",
    "        txt.write('    \"body\": [\\n')\n",
    "        txt.write('\\n'.join(l))\n",
    "        txt.write('\\n    ],\\n')\n",
    "        txt.write('},')\n",
    "    with open('txt/'+name+'.txt') as src: copy(''.join(src.readlines()))\n",
    "except Exception as e: print(e)\n",
    "else: print('The operation is successful. The snippet has been copied to the clipboard.')"
   ]
  }
 ],
 "metadata": {
  "kernelspec": {
   "display_name": "Python 3.10.5 ('proc')",
   "language": "python",
   "name": "python3"
  },
  "language_info": {
   "codemirror_mode": {
    "name": "ipython",
    "version": 3
   },
   "file_extension": ".py",
   "mimetype": "text/x-python",
   "name": "python",
   "nbconvert_exporter": "python",
   "pygments_lexer": "ipython3",
   "version": "3.10.6 | packaged by conda-forge | (main, Aug 22 2022, 20:41:22) [Clang 13.0.1 ]"
  },
  "orig_nbformat": 4,
  "vscode": {
   "interpreter": {
    "hash": "8615c46398274dadcae8a15d61f76bd80e80444c2d170fbfbb04d2a6c73c61a9"
   }
  }
 },
 "nbformat": 4,
 "nbformat_minor": 2
}
