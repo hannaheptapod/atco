{
 "cells": [
  {
   "cell_type": "code",
   "execution_count": null,
   "source": [],
   "outputs": [],
   "metadata": {}
  }
 ],
 "metadata": {
  "orig_nbformat": 4,
  "language_info": {
   "name": "python",
   "version": "3.9.6",
   "mimetype": "text/x-python",
   "codemirror_mode": {
    "name": "ipython",
    "version": 3
   },
   "pygments_lexer": "ipython3",
   "nbconvert_exporter": "python",
   "file_extension": ".py"
  },
  "kernelspec": {
   "name": "python3",
   "display_name": "Python 3.9.6 64-bit ('atco': conda)"
  },
  "interpreter": {
   "hash": "43e6d1e7cbf241fe4dc0e22b4558a6ce21d01bafeba6298ce906280d6159e753"
  }
 },
 "nbformat": 4,
 "nbformat_minor": 2
}